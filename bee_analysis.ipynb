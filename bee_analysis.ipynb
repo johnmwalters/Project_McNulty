{
 "cells": [
  {
   "cell_type": "code",
   "execution_count": 11,
   "metadata": {
    "collapsed": true
   },
   "outputs": [],
   "source": [
    "import os\n",
    "from tqdm import tqdm\n",
    "from PIL import Image\n",
    "import matplotlib as mpl\n",
    "import matplotlib.pyplot as plt\n",
    "import seaborn as sns\n",
    "import pandas as pd\n",
    "import numpy as np\n",
    "from matplotlib import rc_params\n",
    "from skimage.feature import daisy\n",
    "from skimage.feature import hog\n",
    "from skimage.color import rgb2gray\n",
    "from skimage.exposure import equalize_hist\n",
    "from sklearn.preprocessing import StandardScaler\n",
    "from sklearn.decomposition import PCA\n",
    "from sklearn import svm\n",
    "from sklearn.cross_validation import train_test_split\n",
    "from sklearn.grid_search import GridSearchCV\n",
    "from sklearn.metrics import roc_curve, auc\n",
    "%matplotlib inline\n",
    "\n",
    "# load the labels using pandas\n",
    "labels = pd.read_csv(\"data/train_labels.csv\",index_col=0)\n",
    "\n",
    "from create_feature_matrix import create_feature_matrix"
   ]
  },
  {
   "cell_type": "code",
   "execution_count": 2,
   "metadata": {
    "collapsed": true
   },
   "outputs": [],
   "source": [
    "bees_features = np.load(\"bees_features.npy\")"
   ]
  },
  {
   "cell_type": "code",
   "execution_count": 3,
   "metadata": {
    "collapsed": false
   },
   "outputs": [
    {
     "data": {
      "text/plain": [
       "(3969, 168046)"
      ]
     },
     "execution_count": 3,
     "metadata": {},
     "output_type": "execute_result"
    }
   ],
   "source": [
    "ss = StandardScaler()\n",
    "bees_stand = ss.fit_transform(bees_features)\n",
    "bees_stand.shape"
   ]
  },
  {
   "cell_type": "code",
   "execution_count": 4,
   "metadata": {
    "collapsed": false
   },
   "outputs": [
    {
     "name": "stderr",
     "output_type": "stream",
     "text": [
      "/Users/johnwalters/anaconda/lib/python2.7/site-packages/sklearn/decomposition/pca.py:301: DeprecationWarning: using a non-integer number instead of an integer will result in an error in the future\n",
      "  self.noise_variance_ = explained_variance_[n_components:].mean()\n",
      "/Users/johnwalters/anaconda/lib/python2.7/site-packages/numpy/core/_methods.py:59: RuntimeWarning: Mean of empty slice.\n",
      "  warnings.warn(\"Mean of empty slice.\", RuntimeWarning)\n",
      "/Users/johnwalters/anaconda/lib/python2.7/site-packages/sklearn/decomposition/pca.py:308: DeprecationWarning: using a non-integer number instead of an integer will result in an error in the future\n",
      "  self.components_ = components_[:n_components]\n",
      "/Users/johnwalters/anaconda/lib/python2.7/site-packages/sklearn/decomposition/pca.py:309: DeprecationWarning: using a non-integer number instead of an integer will result in an error in the future\n",
      "  self.explained_variance_ = explained_variance_[:n_components]\n",
      "/Users/johnwalters/anaconda/lib/python2.7/site-packages/sklearn/decomposition/pca.py:310: DeprecationWarning: using a non-integer number instead of an integer will result in an error in the future\n",
      "  explained_variance_ratio_ = explained_variance_ratio_[:n_components]\n",
      "/Users/johnwalters/anaconda/lib/python2.7/site-packages/sklearn/decomposition/pca.py:239: DeprecationWarning: using a non-integer number instead of an integer will result in an error in the future\n",
      "  U = U[:, :self.n_components_]\n",
      "/Users/johnwalters/anaconda/lib/python2.7/site-packages/sklearn/decomposition/pca.py:246: DeprecationWarning: using a non-integer number instead of an integer will result in an error in the future\n",
      "  U *= S[:self.n_components_]\n"
     ]
    }
   ],
   "source": [
    "pca = PCA(n_components=4e3)\n",
    "bees_pca = pca.fit_transform(bees_stand)"
   ]
  },
  {
   "cell_type": "code",
   "execution_count": 7,
   "metadata": {
    "collapsed": false
   },
   "outputs": [
    {
     "name": "stdout",
     "output_type": "stream",
     "text": [
      "Best parameters: {'C': 1, 'gamma': 1e-06}\n",
      "Best score: 0.696796977623\n"
     ]
    }
   ],
   "source": [
    "X_train, X_test, y_train, y_test = train_test_split(bees_pca,labels.genus.values,test_size=.2,random_state=1234)\n",
    "\n",
    "# SVM parameters often set on log scale\n",
    "params_to_try = {'C': [10**i for i in range(0, 2)],'gamma': [10**i for i in range(-7, -5)],}\n",
    "\n",
    "gs = GridSearchCV(svm.SVC(class_weight='auto', kernel='rbf', probability=True),param_grid=params_to_try,cv=3,scoring='roc_auc',n_jobs=-1)\n",
    "\n",
    "gs.fit(X_train, y_train)\n",
    "\n",
    "print \"Best parameters:\", gs.best_params_\n",
    "print \"Best score:\", gs.best_score_"
   ]
  },
  {
   "cell_type": "code",
   "execution_count": 8,
   "metadata": {
    "collapsed": true
   },
   "outputs": [],
   "source": [
    "preds = gs.best_estimator_.predict_proba(X_test)"
   ]
  },
  {
   "cell_type": "code",
   "execution_count": 9,
   "metadata": {
    "collapsed": false
   },
   "outputs": [
    {
     "data": {
      "image/png": "[encoded data removed]",
      "text/plain": [
       "<matplotlib.figure.Figure at 0x4385bcc10>"
      ]
     },
     "metadata": {},
     "output_type": "display_data"
    }
   ],
   "source": [
    "false_positive_rate, true_positive_rate, thresholds = roc_curve(y_test,preds[:, 1],pos_label=1)\n",
    "\n",
    "roc_auc = auc(false_positive_rate, true_positive_rate)\n",
    "\n",
    "plt.title('Receiver Operating Characteristic')\n",
    "plt.plot(false_positive_rate,true_positive_rate,label='AUC = {:0.2f}'.format(roc_auc))\n",
    "\n",
    "plt.legend(loc=0)\n",
    "plt.plot([0,1], [0,1], ls='--')\n",
    "plt.ylabel('True Positive Rate')\n",
    "plt.xlabel('False Positive Rate')\n",
    "plt.show()"
   ]
  },
  {
   "cell_type": "code",
   "execution_count": 12,
   "metadata": {
    "collapsed": false
   },
   "outputs": [
    {
     "name": "stderr",
     "output_type": "stream",
     "text": []
    },
    {
     "data": {
      "text/html": [
       "<div>\n",
       "<table border=\"1\" class=\"dataframe\">\n",
       "  <thead>\n",
       "    <tr style=\"text-align: right;\">\n",
       "      <th></th>\n",
       "      <th>genus</th>\n",
       "    </tr>\n",
       "    <tr>\n",
       "      <th>id</th>\n",
       "      <th></th>\n",
       "    </tr>\n",
       "  </thead>\n",
       "  <tbody>\n",
       "    <tr>\n",
       "      <th>2783</th>\n",
       "      <td>0.814626</td>\n",
       "    </tr>\n",
       "    <tr>\n",
       "      <th>2175</th>\n",
       "      <td>0.880654</td>\n",
       "    </tr>\n",
       "    <tr>\n",
       "      <th>4517</th>\n",
       "      <td>0.881033</td>\n",
       "    </tr>\n",
       "    <tr>\n",
       "      <th>2831</th>\n",
       "      <td>0.745186</td>\n",
       "    </tr>\n",
       "    <tr>\n",
       "      <th>3556</th>\n",
       "      <td>0.818123</td>\n",
       "    </tr>\n",
       "  </tbody>\n",
       "</table>\n",
       "</div>"
      ],
      "text/plain": [
       "         genus\n",
       "id            \n",
       "2783  0.814626\n",
       "2175  0.880654\n",
       "4517  0.881033\n",
       "2831  0.745186\n",
       "3556  0.818123"
      ]
     },
     "execution_count": 12,
     "metadata": {},
     "output_type": "execute_result"
    }
   ],
   "source": [
    "sf = pd.read_csv(\"data/SubmissionFormat.csv\", index_col=0)\n",
    "\n",
    "def make_predictions(submission_format_df,output_filepath=\"my_submission.csv\"):\n",
    "    prediction_df = submission_format_df.copy()\n",
    "    \n",
    "    # create features\n",
    "    test_features = create_feature_matrix(submission_format_df)\n",
    "    test_features_stand = ss.transform(test_features)   \n",
    "    test_features_pca = pca.transform(test_features_stand)\n",
    "    \n",
    "    # predict with the best estimator from the grid search\n",
    "    preds = gs.best_estimator_.predict_proba(test_features_pca)\n",
    "    \n",
    "    # copy the predictions to the dataframe with the ids and\n",
    "    # write it out to a file\n",
    "    prediction_df.genus = preds[:, 1]\n",
    "    prediction_df.to_csv(output_filepath)\n",
    "    \n",
    "    return prediction_df\n",
    "    \n",
    "pred_df = make_predictions(sf, output_filepath=\"raw_hog_daisy_rbf.csv\")\n",
    "pred_df.head()"
   ]
  },
  {
   "cell_type": "code",
   "execution_count": null,
   "metadata": {
    "collapsed": true
   },
   "outputs": [],
   "source": []
  }
 ],
 "metadata": {
  "kernelspec": {
   "display_name": "Python 2",
   "language": "python",
   "name": "python2"
  },
  "language_info": {
   "codemirror_mode": {
    "name": "ipython",
    "version": 2
   },
   "file_extension": ".py",
   "mimetype": "text/x-python",
   "name": "python",
   "nbconvert_exporter": "python",
   "pygments_lexer": "ipython2",
   "version": "2.7.10"
  }
 },
 "nbformat": 4,
 "nbformat_minor": 0
}
